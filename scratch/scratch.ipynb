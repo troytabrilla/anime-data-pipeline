{
 "cells": [
  {
   "cell_type": "code",
   "execution_count": null,
   "id": "cad0562a",
   "metadata": {},
   "outputs": [],
   "source": [
    "import duckdb\n",
    "import plotly.express as px\n",
    "\n",
    "with open(\"../queries/count_score.sql\") as query_file:\n",
    "    query = query_file.read()\n",
    "    with duckdb.connect(\"../data/anime_data.duckdb\") as conn:\n",
    "        df = conn.execute(query).fetchdf()\n",
    "        print(df)\n",
    "        print(df[\"count\"].sum())\n",
    "        fig = px.bar(df, x=\"score\", y=\"count\", title=\"Score Count\")\n",
    "        fig.show()"
   ]
  },
  {
   "cell_type": "code",
   "execution_count": null,
   "id": "d17888d0",
   "metadata": {},
   "outputs": [],
   "source": [
    "import duckdb\n",
    "import plotly.express as px\n",
    "\n",
    "with open(\"../queries/count_score_by_top_genre.sql\") as query_file:\n",
    "    query = query_file.read()\n",
    "    with duckdb.connect(\"../data/anime_data.duckdb\") as conn:\n",
    "        df = conn.execute(query).fetchdf()\n",
    "        print(df)\n",
    "        fig = px.bar(df, x=\"score\", y=\"count\", color=\"genre\", title=\"Score Count by Top Genre\")\n",
    "        fig.show()"
   ]
  },
  {
   "cell_type": "code",
   "execution_count": null,
   "id": "04c949c9",
   "metadata": {},
   "outputs": [],
   "source": [
    "import duckdb\n",
    "import plotly.express as px\n",
    "\n",
    "with open(\"../queries/count_score_by_top_tag.sql\") as query_file:\n",
    "    query = query_file.read()\n",
    "    with duckdb.connect(\"../data/anime_data.duckdb\") as conn:\n",
    "        df = conn.execute(query).fetchdf()\n",
    "        print(df)\n",
    "        fig = px.bar(df, x=\"score\", y=\"count\", color=\"tag\", title=\"Score Count by Top Tag\")\n",
    "        fig.show()"
   ]
  },
  {
   "cell_type": "code",
   "execution_count": null,
   "id": "1f11cd9a",
   "metadata": {},
   "outputs": [],
   "source": [
    "import duckdb\n",
    "\n",
    "with duckdb.connect(\"../data/anime_data.duckdb\") as conn:\n",
    "    conn.sql(\"COPY (FROM dbt.anime_scores) TO '../data/anime_scores.parquet' (FORMAT parquet)\")"
   ]
  },
  {
   "cell_type": "code",
   "execution_count": null,
   "id": "839026d1",
   "metadata": {},
   "outputs": [],
   "source": [
    "from pyspark.sql import SparkSession as session\n",
    "from pyspark.sql.functions import count_distinct, desc\n",
    "\n",
    "spark = session.builder.appName(\"Anime Data Pipeline - Spark\").config(\"spark.memory.offHeap.enabled\", \"true\").config(\"spark.memory.offHeap.size\", \"2g\").getOrCreate()"
   ]
  },
  {
   "cell_type": "code",
   "execution_count": null,
   "id": "353fc4c2",
   "metadata": {},
   "outputs": [],
   "source": [
    "\n",
    "df = spark.read.parquet(\"../data/anime_scores.parquet\")\n",
    "aggs = df.groupBy(\"score\").agg(count_distinct(\"media_id\").alias(\"count\")).filter(df[\"score\"] > 0.0).orderBy(desc(\"count\"), desc(\"score\"))\n",
    "aggs.show()"
   ]
  },
  {
   "cell_type": "code",
   "execution_count": null,
   "id": "c27bda92",
   "metadata": {},
   "outputs": [],
   "source": [
    "table = df.createOrReplaceTempView(\"anime_scores\")\n",
    "query = \"\"\"SELECT\n",
    "  score,\n",
    "  COUNT(DISTINCT(media_id)) AS count\n",
    "FROM\n",
    "  anime_scores\n",
    "WHERE\n",
    "  score > 0.0\n",
    "GROUP BY\n",
    "  score\n",
    "ORDER BY\n",
    "  count DESC, score DESC\"\"\"\n",
    "result = spark.sql(query)\n",
    "result.show()"
   ]
  },
  {
   "cell_type": "code",
   "execution_count": null,
   "id": "218d1229",
   "metadata": {},
   "outputs": [],
   "source": [
    "with_tags = df.select(\"media_id\", \"score\", \"tag\").filter(df[\"tag\"].isNotNull())\n",
    "with_genres = df.select(\"media_id\", \"score\", \"genre\").filter(df[\"genre\"].isNotNull())\n",
    "joined = with_tags.join(with_genres, [\"media_id\", \"score\"]).distinct()\n",
    "joined.show()"
   ]
  },
  {
   "cell_type": "code",
   "execution_count": null,
   "id": "28579fd4",
   "metadata": {},
   "outputs": [],
   "source": [
    "from pyspark.ml.feature import VectorAssembler, StandardScaler, StringIndexer, OneHotEncoder\n",
    "\n",
    "indexer = StringIndexer(inputCols=[\"tag\", \"genre\"], outputCols=[\"tag_indexed\", \"genre_indexed\"])\n",
    "indexed_df = indexer.fit(joined).transform(joined)\n",
    "indexed_df.show()"
   ]
  },
  {
   "cell_type": "code",
   "execution_count": null,
   "id": "c23587d3",
   "metadata": {},
   "outputs": [],
   "source": [
    "\n",
    "encoder_tag = OneHotEncoder(inputCols=[\"tag_indexed\"], outputCols=[\"tag_one_hot\"])\n",
    "encoded_tag_df = encoder_tag.fit(indexed_df).transform(indexed_df)\n",
    "assembler_tag = VectorAssembler(inputCols=[\"score\", \"tag_one_hot\"], outputCol=\"features\")\n",
    "assembled_tag_df = assembler_tag.transform(encoded_tag_df)\n",
    "scaler_tag = StandardScaler(inputCol=\"features\", outputCol=\"standardized_tag\")\n",
    "scaled_tag_df = scaler_tag.fit(assembled_tag_df).transform(assembled_tag_df)\n",
    "scaled_tag_df.select(\"standardized_tag\").show(truncate=False)"
   ]
  },
  {
   "cell_type": "code",
   "execution_count": null,
   "id": "6f0383d2",
   "metadata": {},
   "outputs": [],
   "source": [
    "\n",
    "encoder_genre = OneHotEncoder(inputCols=[\"genre_indexed\"], outputCols=[\"genre_one_hot\"])\n",
    "encoded_genre_df = encoder_genre.fit(indexed_df).transform(indexed_df)\n",
    "assembler_genre = VectorAssembler(inputCols=[\"score\", \"genre_one_hot\"], outputCol=\"features\")\n",
    "assembled_genre_df = assembler_genre.transform(encoded_genre_df)\n",
    "scaler_genre = StandardScaler(inputCol=\"features\", outputCol=\"standardized\")\n",
    "scaled_genre_df = scaler_genre.fit(assembled_genre_df).transform(assembled_genre_df)\n",
    "scaled_genre_df.select(\"standardized\").show(truncate=False)"
   ]
  },
  {
   "cell_type": "code",
   "execution_count": null,
   "id": "f65e3f8e",
   "metadata": {},
   "outputs": [],
   "source": [
    "from pyspark.ml.clustering import KMeans\n",
    "from pyspark.ml.evaluation import ClusteringEvaluator\n",
    "import numpy as np\n",
    "\n",
    "max_clusters = 100\n",
    "\n",
    "cost = np.zeros(max_clusters)\n",
    "\n",
    "evaluator = ClusteringEvaluator(predictionCol=\"prediction\", featuresCol=\"standardized\", metricName=\"silhouette\", distanceMeasure=\"squaredEuclidean\")\n",
    "\n",
    "for i in range(2, max_clusters):\n",
    "    KMeans_algo = KMeans(featuresCol=\"standardized\", k=i)\n",
    "    KMeans_fit = KMeans_algo.fit(scaled_genre_df)\n",
    "    output = KMeans_fit.transform(scaled_genre_df)\n",
    "    cost[i] = KMeans_fit.summary.trainingCost\n",
    "\n",
    "cost"
   ]
  },
  {
   "cell_type": "code",
   "execution_count": null,
   "id": "8cece05c",
   "metadata": {},
   "outputs": [],
   "source": [
    "import pandas as pd\n",
    "import plotly.express as px\n",
    "\n",
    "cost_df = pd.DataFrame(cost[2:])\n",
    "cost_df.columns = [\"cost\"]\n",
    "new_col = range(2, max_clusters)\n",
    "cost_df.insert(0, \"cluster\", new_col)\n",
    "fig = px.line(cost_df, x=\"cluster\", y=\"cost\", title=\"Cluster vs Cost\")\n",
    "fig.show()"
   ]
  },
  {
   "cell_type": "code",
   "execution_count": null,
   "id": "57fb7ed7",
   "metadata": {},
   "outputs": [],
   "source": [
    "KMeans_algo = KMeans(featuresCol='standardized', k=18)\n",
    "predictions = KMeans_algo.fit(scaled_genre_df).transform(scaled_genre_df)\n",
    "predictions.show()"
   ]
  },
  {
   "cell_type": "code",
   "execution_count": null,
   "id": "62777c4c",
   "metadata": {},
   "outputs": [],
   "source": [
    "import matplotlib.pyplot as plt\n",
    "import seaborn as sns\n",
    "\n",
    "viz_df = predictions.select(\"score\", \"genre\", \"prediction\")\n",
    "viz_df = viz_df.toPandas()\n",
    "\n",
    "list1 = [\"score\", \"genre\"]\n",
    "\n",
    "for i in list1:\n",
    "    sns.barplot(x=\"prediction\", y=str(i), data=viz_df)\n",
    "    plt.show()"
   ]
  }
 ],
 "metadata": {
  "kernelspec": {
   "display_name": ".venv",
   "language": "python",
   "name": "python3"
  },
  "language_info": {
   "codemirror_mode": {
    "name": "ipython",
    "version": 3
   },
   "file_extension": ".py",
   "mimetype": "text/x-python",
   "name": "python",
   "nbconvert_exporter": "python",
   "pygments_lexer": "ipython3",
   "version": "3.12.3"
  }
 },
 "nbformat": 4,
 "nbformat_minor": 5
}
